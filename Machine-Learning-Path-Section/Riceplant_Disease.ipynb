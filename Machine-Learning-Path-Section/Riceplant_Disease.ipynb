{
  "nbformat": 4,
  "nbformat_minor": 0,
  "metadata": {
    "colab": {
      "name": "Riceplant_Disease.ipynb",
      "provenance": [],
      "collapsed_sections": [],
      "toc_visible": true
    },
    "kernelspec": {
      "name": "python3",
      "display_name": "Python 3"
    },
    "language_info": {
      "name": "python"
    }
  },
  "cells": [
    {
      "cell_type": "code",
      "metadata": {
        "colab": {
          "base_uri": "https://localhost:8080/"
        },
        "id": "B5Z49yYndElI",
        "outputId": "cb994d62-a1ac-4601-a087-9bef91e28925"
      },
      "source": [
        "!pip install split-folders\n",
        "import tensorflow as tf\n",
        "from tensorflow.keras.optimizers import RMSprop\n",
        "from tensorflow.keras.preprocessing.image import ImageDataGenerator\n",
        "from tensorflow.keras import Model\n",
        "from sklearn.model_selection import train_test_split\n",
        "import matplotlib.pyplot as plt \n",
        "\n",
        "import zipfile,os\n",
        "import splitfolders\n",
        "import numpy as np\n",
        "from google.colab import files\n",
        "from keras.preprocessing import image\n",
        "import keras\n",
        "import shutil"
      ],
      "execution_count": 32,
      "outputs": [
        {
          "output_type": "stream",
          "text": [
            "Requirement already satisfied: split-folders in /usr/local/lib/python3.7/dist-packages (0.4.3)\n"
          ],
          "name": "stdout"
        }
      ]
    },
    {
      "cell_type": "markdown",
      "metadata": {
        "id": "UJqk0MQWbTMg"
      },
      "source": [
        "## Download Rice leaf Disease Dataset from Kaggle"
      ]
    },
    {
      "cell_type": "code",
      "metadata": {
        "colab": {
          "base_uri": "https://localhost:8080/"
        },
        "id": "_-eg8XrCauZV",
        "outputId": "72156530-a2b6-48f7-bb04-651a33f101fe"
      },
      "source": [
        "! chmod 600 kaggle.json && (ls ~/.kaggle 2>/dev/null || mkdir ~/.kaggle) && mv kaggle.json ~/.kaggle/ && echo 'Done'"
      ],
      "execution_count": 2,
      "outputs": [
        {
          "output_type": "stream",
          "text": [
            "chmod: cannot access 'kaggle.json': No such file or directory\n"
          ],
          "name": "stdout"
        }
      ]
    },
    {
      "cell_type": "code",
      "metadata": {
        "colab": {
          "base_uri": "https://localhost:8080/"
        },
        "id": "BLm_k3zUcPQv",
        "outputId": "72597a8a-486d-4d6f-9d62-7db977c1cc5b"
      },
      "source": [
        "! kaggle datasets download vbookshelf/rice-leaf-diseases"
      ],
      "execution_count": 3,
      "outputs": [
        {
          "output_type": "stream",
          "text": [
            "rice-leaf-diseases.zip: Skipping, found more recently modified local copy (use --force to force download)\n"
          ],
          "name": "stdout"
        }
      ]
    },
    {
      "cell_type": "code",
      "metadata": {
        "id": "zGmhkE5NcelP"
      },
      "source": [
        "local_zip = '/content/rice-leaf-diseases.zip'\n",
        "zip_ref = zipfile.ZipFile(local_zip, 'r')\n",
        "zip_ref.extractall('/content')\n",
        "zip_ref.close()"
      ],
      "execution_count": 10,
      "outputs": []
    },
    {
      "cell_type": "code",
      "metadata": {
        "colab": {
          "base_uri": "https://localhost:8080/"
        },
        "id": "WmrFjQ1gdNTf",
        "outputId": "8d378824-db09-4d3a-8ec2-5e7cfa1c3e63"
      },
      "source": [
        "os.listdir(\"/content/rice_leaf_diseases\")"
      ],
      "execution_count": 11,
      "outputs": [
        {
          "output_type": "execute_result",
          "data": {
            "text/plain": [
              "['Bacterial leaf blight', 'Brown spot', 'Leaf smut']"
            ]
          },
          "metadata": {
            "tags": []
          },
          "execution_count": 11
        }
      ]
    },
    {
      "cell_type": "code",
      "metadata": {
        "colab": {
          "base_uri": "https://localhost:8080/"
        },
        "id": "ZTG6M_wmdYOG",
        "outputId": "4c994c4c-d927-4441-939a-921b69c3a300"
      },
      "source": [
        "root_dir = '/content/rice_leaf_diseases' # data root path\n",
        "classes_dir = ['Bacterial leaf blight', 'Brown spot', 'Leaf smut'] #total labels\n",
        "\n",
        "val_ratio = 0.2\n",
        "test_ratio = 0.2\n",
        "\n",
        "total_data = 0\n",
        "total_train_data = 0 \n",
        "total_validation_data = 0\n",
        "total_test_data = 0\n",
        "for cls in classes_dir:\n",
        "    os.makedirs(root_dir +'_train/' + cls)\n",
        "    os.makedirs(root_dir +'_val/' + cls)\n",
        "    os.makedirs(root_dir +'_test/' + cls)\n",
        "\n",
        "\n",
        "  # Creating partitions of the data after shuffeling\n",
        "    src = root_dir + '/' + cls # Folder to copy images from\n",
        "\n",
        "    allFileNames = os.listdir(src)\n",
        "    print(src)\n",
        "    np.random.shuffle(allFileNames)\n",
        "    train_FileNames, val_FileNames, test_FileNames = np.split(np.array(allFileNames),\n",
        "                                                              [int(len(allFileNames)* (1 - (val_ratio + test_ratio))), \n",
        "                                                              int(len(allFileNames)* (1 - test_ratio))])\n",
        "\n",
        "\n",
        "    train_FileNames = [src+'/'+ name for name in train_FileNames.tolist()]\n",
        "    val_FileNames = [src+'/' + name for name in val_FileNames.tolist()]\n",
        "    test_FileNames = [src+'/' + name for name in test_FileNames.tolist()]\n",
        "\n",
        "    # Copy-pasting images\n",
        "    for name in train_FileNames:\n",
        "        shutil.copy(name, root_dir +'_train/' + cls)\n",
        "\n",
        "    for name in val_FileNames:\n",
        "        shutil.copy(name, root_dir +'_val/' + cls)\n",
        "\n",
        "    for name in test_FileNames:\n",
        "        shutil.copy(name, root_dir +'_test/' + cls)\n",
        "\n",
        "    #count total images\n",
        "    total_data += len(allFileNames)\n",
        "    total_train_data += len(train_FileNames)\n",
        "    total_validation_data += len(val_FileNames)\n",
        "    total_test_data += len(test_FileNames)\n",
        "\n",
        "\n",
        "print('Total images: ', total_data)\n",
        "print('Training: ', total_train_data)\n",
        "print('Validation: ', total_validation_data)\n",
        "print('Testing: ', total_test_data)"
      ],
      "execution_count": 82,
      "outputs": [
        {
          "output_type": "stream",
          "text": [
            "/content/rice_leaf_diseases/Bacterial leaf blight\n",
            "/content/rice_leaf_diseases/Brown spot\n",
            "/content/rice_leaf_diseases/Leaf smut\n",
            "Total images:  120\n",
            "Training:  72\n",
            "Validation:  24\n",
            "Testing:  24\n"
          ],
          "name": "stdout"
        }
      ]
    },
    {
      "cell_type": "code",
      "metadata": {
        "id": "fVvc4nyBgWiJ"
      },
      "source": [
        "!rm -rf rice_leaf_diseases_train\n",
        "!rm -rf rice_leaf_diseases_val\n",
        "!rm -rf rice_leaf_diseases_test"
      ],
      "execution_count": 81,
      "outputs": []
    },
    {
      "cell_type": "markdown",
      "metadata": {
        "id": "tcYx37l_i7Xp"
      },
      "source": [
        "## Augmentasi Gambar"
      ]
    },
    {
      "cell_type": "code",
      "metadata": {
        "id": "pvNpztF-ia0C"
      },
      "source": [
        "train_datagen = ImageDataGenerator(\n",
        "                    rescale=1./255,\n",
        "                    rotation_range=20,\n",
        "                    horizontal_flip=True,\n",
        "                    shear_range = 0.2,\n",
        "                    validation_split = 0.4,\n",
        "                    fill_mode = 'nearest')\n",
        "\n",
        "val_datagen = ImageDataGenerator(\n",
        "                    rescale=1./255)\n",
        "\n",
        "test_datagen = ImageDataGenerator(\n",
        "                    rescale=1./255)\n",
        "\n"
      ],
      "execution_count": 83,
      "outputs": []
    },
    {
      "cell_type": "code",
      "metadata": {
        "colab": {
          "base_uri": "https://localhost:8080/"
        },
        "id": "vCgnWUqoicZg",
        "outputId": "21fdd69d-45a6-4a68-c532-f2d930364c4c"
      },
      "source": [
        "train_dir = \"/content/rice_leaf_diseases_train\"\n",
        "validation_dir = \"/content/rice_leaf_diseases_val\"\n",
        "testing_dir = \"/content/rice_leaf_diseases_test\"\n",
        "\n",
        "train_generator = train_datagen.flow_from_directory(\n",
        "        train_dir,  \n",
        "        target_size=(150, 150),  \n",
        "        batch_size=4,\n",
        "        class_mode='categorical') \n",
        "        \n",
        " \n",
        "validation_generator = val_datagen.flow_from_directory(\n",
        "        validation_dir, \n",
        "        target_size=(150, 150), \n",
        "        batch_size=4, \n",
        "        class_mode='categorical')\n",
        "        \n",
        " \n",
        "testing_generator = test_datagen.flow_from_directory(\n",
        "        testing_dir, \n",
        "        target_size=(150, 150), \n",
        "        batch_size=4, \n",
        "        class_mode='categorical')"
      ],
      "execution_count": 84,
      "outputs": [
        {
          "output_type": "stream",
          "text": [
            "Found 72 images belonging to 3 classes.\n",
            "Found 24 images belonging to 3 classes.\n",
            "Found 24 images belonging to 3 classes.\n"
          ],
          "name": "stdout"
        }
      ]
    },
    {
      "cell_type": "markdown",
      "metadata": {
        "id": "izkADH3qj3nW"
      },
      "source": [
        "# MobileNetV2"
      ]
    },
    {
      "cell_type": "code",
      "metadata": {
        "id": "twbvG2f7jzdx"
      },
      "source": [
        "from keras.applications.mobilenet_v2 import MobileNetV2"
      ],
      "execution_count": 85,
      "outputs": []
    },
    {
      "cell_type": "code",
      "metadata": {
        "colab": {
          "base_uri": "https://localhost:8080/"
        },
        "id": "xjh9K6b9j_qA",
        "outputId": "c8f048da-47dc-4598-deae-e00c2db6d98c"
      },
      "source": [
        "model = keras.models.Sequential()\n",
        "model.add(MobileNetV2(weights='imagenet',include_top=False,input_shape=(150,150,3)))\n",
        "model.add(tf.keras.layers.Conv2D(256, (3,3), activation='relu'))\n",
        "model.add(tf.keras.layers.MaxPooling2D(2,2))\n",
        "model.add(tf.keras.layers.Flatten())\n",
        "model.add(tf.keras.layers.Dense(521, activation='relu'))\n",
        "model.add(tf.keras.layers.Dense(3, activation='softmax'))\n",
        "model.summary()"
      ],
      "execution_count": 86,
      "outputs": [
        {
          "output_type": "stream",
          "text": [
            "WARNING:tensorflow:`input_shape` is undefined or non-square, or `rows` is not in [96, 128, 160, 192, 224]. Weights for input shape (224, 224) will be loaded as the default.\n",
            "Model: \"sequential_3\"\n",
            "_________________________________________________________________\n",
            "Layer (type)                 Output Shape              Param #   \n",
            "=================================================================\n",
            "mobilenetv2_1.00_224 (Functi (None, 5, 5, 1280)        2257984   \n",
            "_________________________________________________________________\n",
            "conv2d_3 (Conv2D)            (None, 3, 3, 256)         2949376   \n",
            "_________________________________________________________________\n",
            "max_pooling2d_3 (MaxPooling2 (None, 1, 1, 256)         0         \n",
            "_________________________________________________________________\n",
            "flatten_3 (Flatten)          (None, 256)               0         \n",
            "_________________________________________________________________\n",
            "dense_6 (Dense)              (None, 521)               133897    \n",
            "_________________________________________________________________\n",
            "dense_7 (Dense)              (None, 3)                 1566      \n",
            "=================================================================\n",
            "Total params: 5,342,823\n",
            "Trainable params: 5,308,711\n",
            "Non-trainable params: 34,112\n",
            "_________________________________________________________________\n"
          ],
          "name": "stdout"
        }
      ]
    },
    {
      "cell_type": "markdown",
      "metadata": {
        "id": "1ASA1nmhkI_A"
      },
      "source": [
        "## Compile Model"
      ]
    },
    {
      "cell_type": "code",
      "metadata": {
        "id": "TrzjxmIekHqx"
      },
      "source": [
        "model.compile(loss='categorical_crossentropy',\n",
        "              optimizer=tf.optimizers.Adam(),\n",
        "              metrics=['accuracy'])"
      ],
      "execution_count": 87,
      "outputs": []
    },
    {
      "cell_type": "code",
      "metadata": {
        "id": "HR5RQ2VikPtj"
      },
      "source": [
        "class CustomCallback(tf.keras.callbacks.Callback):\n",
        "  def on_epoch_end(self, epoch, logs={}):\n",
        "    if(logs.get('accuracy')>0.97):\n",
        "      print(\"Akurasi Diatas 97%\")\n",
        "      self.model.stop_training = True"
      ],
      "execution_count": 88,
      "outputs": []
    },
    {
      "cell_type": "code",
      "metadata": {
        "colab": {
          "base_uri": "https://localhost:8080/"
        },
        "id": "W5V7tRV9kRsj",
        "outputId": "0856962c-d9ef-4b8a-d976-8677e5a39d61"
      },
      "source": [
        "history = model.fit(\n",
        "      train_generator,\n",
        "      steps_per_epoch=30,  \n",
        "      epochs=50,\n",
        "      validation_data=validation_generator, \n",
        "      validation_steps=4,\n",
        "      callbacks=[CustomCallback()],  \n",
        "     )"
      ],
      "execution_count": 90,
      "outputs": [
        {
          "output_type": "stream",
          "text": [
            "Epoch 1/50\n",
            "30/30 [==============================] - 9s 300ms/step - loss: 1.1278 - accuracy: 0.4500 - val_loss: 8.7815 - val_accuracy: 0.5000\n",
            "Epoch 2/50\n",
            "30/30 [==============================] - 9s 298ms/step - loss: 1.0485 - accuracy: 0.4167 - val_loss: 8.4063 - val_accuracy: 0.3750\n",
            "Epoch 3/50\n",
            "30/30 [==============================] - 9s 295ms/step - loss: 1.0936 - accuracy: 0.4667 - val_loss: 3.2750 - val_accuracy: 0.5000\n",
            "Epoch 4/50\n",
            "30/30 [==============================] - 9s 300ms/step - loss: 1.1485 - accuracy: 0.4167 - val_loss: 3.7114 - val_accuracy: 0.2500\n",
            "Epoch 5/50\n",
            "30/30 [==============================] - 9s 297ms/step - loss: 1.2264 - accuracy: 0.3833 - val_loss: 1.6413 - val_accuracy: 0.7500\n",
            "Epoch 6/50\n",
            "30/30 [==============================] - 9s 295ms/step - loss: 1.2049 - accuracy: 0.4500 - val_loss: 30.0406 - val_accuracy: 0.3750\n",
            "Epoch 7/50\n",
            "30/30 [==============================] - 9s 298ms/step - loss: 2.0068 - accuracy: 0.4167 - val_loss: 30.6490 - val_accuracy: 0.3750\n",
            "Epoch 8/50\n",
            "30/30 [==============================] - 9s 295ms/step - loss: 1.1145 - accuracy: 0.3167 - val_loss: 39.7030 - val_accuracy: 0.5000\n",
            "Epoch 9/50\n",
            "30/30 [==============================] - 9s 296ms/step - loss: 1.2144 - accuracy: 0.3833 - val_loss: 36.9501 - val_accuracy: 0.3750\n",
            "Epoch 10/50\n",
            "30/30 [==============================] - 9s 295ms/step - loss: 1.1067 - accuracy: 0.3833 - val_loss: 38.9190 - val_accuracy: 0.3750\n",
            "Epoch 11/50\n",
            "30/30 [==============================] - 9s 296ms/step - loss: 1.0901 - accuracy: 0.3500 - val_loss: 44.4787 - val_accuracy: 0.3750\n",
            "Epoch 12/50\n",
            "30/30 [==============================] - 9s 295ms/step - loss: 1.0386 - accuracy: 0.4000 - val_loss: 28.8803 - val_accuracy: 0.3750\n",
            "Epoch 13/50\n",
            "30/30 [==============================] - 9s 295ms/step - loss: 1.7512 - accuracy: 0.3667 - val_loss: 17.2007 - val_accuracy: 0.3750\n",
            "Epoch 14/50\n",
            "30/30 [==============================] - 9s 292ms/step - loss: 1.1401 - accuracy: 0.4500 - val_loss: 14.9308 - val_accuracy: 0.1250\n",
            "Epoch 15/50\n",
            "30/30 [==============================] - 9s 293ms/step - loss: 1.0291 - accuracy: 0.5333 - val_loss: 9.0416 - val_accuracy: 0.5000\n",
            "Epoch 16/50\n",
            "30/30 [==============================] - 9s 296ms/step - loss: 0.9905 - accuracy: 0.5333 - val_loss: 9.2093 - val_accuracy: 0.5000\n",
            "Epoch 17/50\n",
            "30/30 [==============================] - 9s 293ms/step - loss: 1.0793 - accuracy: 0.4833 - val_loss: 8.6691 - val_accuracy: 0.3750\n",
            "Epoch 18/50\n",
            "30/30 [==============================] - 9s 296ms/step - loss: 0.9664 - accuracy: 0.5167 - val_loss: 7.9470 - val_accuracy: 0.1250\n",
            "Epoch 19/50\n",
            "30/30 [==============================] - 9s 299ms/step - loss: 1.0365 - accuracy: 0.4667 - val_loss: 2.1625 - val_accuracy: 0.6250\n",
            "Epoch 20/50\n",
            "30/30 [==============================] - 9s 296ms/step - loss: 1.0013 - accuracy: 0.4667 - val_loss: 1.7253 - val_accuracy: 0.3750\n",
            "Epoch 21/50\n",
            "30/30 [==============================] - 9s 296ms/step - loss: 0.9698 - accuracy: 0.5167 - val_loss: 1.8270 - val_accuracy: 0.2500\n",
            "Epoch 22/50\n",
            "30/30 [==============================] - 9s 287ms/step - loss: 0.9166 - accuracy: 0.5333 - val_loss: 0.8074 - val_accuracy: 0.5000\n",
            "Epoch 23/50\n",
            "30/30 [==============================] - 9s 294ms/step - loss: 0.9269 - accuracy: 0.5833 - val_loss: 1.0258 - val_accuracy: 0.7500\n",
            "Epoch 24/50\n",
            "30/30 [==============================] - 9s 293ms/step - loss: 0.8980 - accuracy: 0.5500 - val_loss: 0.9645 - val_accuracy: 0.3750\n",
            "Epoch 25/50\n",
            "30/30 [==============================] - 9s 298ms/step - loss: 0.9490 - accuracy: 0.4833 - val_loss: 0.9126 - val_accuracy: 0.5000\n",
            "Epoch 26/50\n",
            "30/30 [==============================] - 9s 292ms/step - loss: 0.9375 - accuracy: 0.5333 - val_loss: 0.7344 - val_accuracy: 0.6250\n",
            "Epoch 27/50\n",
            "30/30 [==============================] - 9s 295ms/step - loss: 0.8917 - accuracy: 0.6000 - val_loss: 1.0329 - val_accuracy: 0.6250\n",
            "Epoch 28/50\n",
            "30/30 [==============================] - 9s 292ms/step - loss: 0.8468 - accuracy: 0.5667 - val_loss: 0.5223 - val_accuracy: 0.8750\n",
            "Epoch 29/50\n",
            "30/30 [==============================] - 9s 298ms/step - loss: 0.9203 - accuracy: 0.5667 - val_loss: 2.2612 - val_accuracy: 0.2500\n",
            "Epoch 30/50\n",
            "30/30 [==============================] - 9s 295ms/step - loss: 1.4262 - accuracy: 0.4500 - val_loss: 1.9753 - val_accuracy: 0.1250\n",
            "Epoch 31/50\n",
            "30/30 [==============================] - 9s 291ms/step - loss: 1.0342 - accuracy: 0.4667 - val_loss: 1.8801 - val_accuracy: 0.0000e+00\n",
            "Epoch 32/50\n",
            "30/30 [==============================] - 9s 293ms/step - loss: 1.0258 - accuracy: 0.4833 - val_loss: 2.5838 - val_accuracy: 0.5000\n",
            "Epoch 33/50\n",
            "30/30 [==============================] - 9s 292ms/step - loss: 0.9626 - accuracy: 0.4500 - val_loss: 4.5216 - val_accuracy: 0.2500\n",
            "Epoch 34/50\n",
            "30/30 [==============================] - 9s 294ms/step - loss: 0.9071 - accuracy: 0.4833 - val_loss: 5.7902 - val_accuracy: 0.2500\n",
            "Epoch 35/50\n",
            "30/30 [==============================] - 9s 294ms/step - loss: 0.8548 - accuracy: 0.5333 - val_loss: 2.6253 - val_accuracy: 0.2500\n",
            "Epoch 36/50\n",
            "30/30 [==============================] - 9s 294ms/step - loss: 0.8640 - accuracy: 0.5833 - val_loss: 2.1176 - val_accuracy: 0.5000\n",
            "Epoch 37/50\n",
            "30/30 [==============================] - 9s 297ms/step - loss: 0.8601 - accuracy: 0.5833 - val_loss: 3.5114 - val_accuracy: 0.5000\n",
            "Epoch 38/50\n",
            "30/30 [==============================] - 9s 294ms/step - loss: 0.7905 - accuracy: 0.6333 - val_loss: 2.0111 - val_accuracy: 0.3750\n",
            "Epoch 39/50\n",
            "30/30 [==============================] - 9s 292ms/step - loss: 0.7529 - accuracy: 0.5667 - val_loss: 2.2807 - val_accuracy: 0.6250\n",
            "Epoch 40/50\n",
            "30/30 [==============================] - 9s 295ms/step - loss: 0.6135 - accuracy: 0.6000 - val_loss: 0.6450 - val_accuracy: 0.8750\n",
            "Epoch 41/50\n",
            "30/30 [==============================] - 9s 293ms/step - loss: 0.7420 - accuracy: 0.5833 - val_loss: 2.6011 - val_accuracy: 0.2500\n",
            "Epoch 42/50\n",
            "30/30 [==============================] - 9s 298ms/step - loss: 0.7386 - accuracy: 0.6000 - val_loss: 1.9002 - val_accuracy: 0.2500\n",
            "Epoch 43/50\n",
            "30/30 [==============================] - 9s 291ms/step - loss: 0.7398 - accuracy: 0.6667 - val_loss: 0.9159 - val_accuracy: 0.1250\n",
            "Epoch 44/50\n",
            "30/30 [==============================] - 9s 296ms/step - loss: 0.5332 - accuracy: 0.6500 - val_loss: 2.8632 - val_accuracy: 0.3750\n",
            "Epoch 45/50\n",
            "30/30 [==============================] - 9s 294ms/step - loss: 0.5211 - accuracy: 0.6667 - val_loss: 2.3190 - val_accuracy: 0.5000\n",
            "Epoch 46/50\n",
            "30/30 [==============================] - 9s 293ms/step - loss: 0.4862 - accuracy: 0.6833 - val_loss: 0.6254 - val_accuracy: 0.6250\n",
            "Epoch 47/50\n",
            "30/30 [==============================] - 9s 290ms/step - loss: 0.4723 - accuracy: 0.6667 - val_loss: 0.4208 - val_accuracy: 0.7500\n",
            "Epoch 48/50\n",
            "30/30 [==============================] - 9s 296ms/step - loss: 0.5449 - accuracy: 0.7167 - val_loss: 4.6159 - val_accuracy: 0.2500\n",
            "Epoch 49/50\n",
            "30/30 [==============================] - 9s 291ms/step - loss: 0.4820 - accuracy: 0.7500 - val_loss: 1.5314 - val_accuracy: 0.7500\n",
            "Epoch 50/50\n",
            "30/30 [==============================] - 9s 298ms/step - loss: 0.5233 - accuracy: 0.8000 - val_loss: 4.1835 - val_accuracy: 0.7500\n"
          ],
          "name": "stdout"
        }
      ]
    },
    {
      "cell_type": "markdown",
      "metadata": {
        "id": "n43nmmc5m-g6"
      },
      "source": [
        "## Ploting Model"
      ]
    },
    {
      "cell_type": "code",
      "metadata": {
        "colab": {
          "base_uri": "https://localhost:8080/",
          "height": 545
        },
        "id": "y1MK7FYpm_t_",
        "outputId": "200cfa3c-b2b8-494d-ecb4-0bf1d77bbf1a"
      },
      "source": [
        "acc = history.history['accuracy']\n",
        "val_acc = history.history['val_accuracy']\n",
        "loss = history.history['loss']\n",
        "val_loss = history.history['val_loss']\n",
        "epochs = range(len(acc))\n",
        "\n",
        "plt.plot(epochs, acc, 'r', label='Training accuracy')\n",
        "plt.plot(epochs, val_acc, 'b', label='Validation accuracy')\n",
        "plt.title('Training and validation accuracy')\n",
        "plt.legend(loc=0)\n",
        "plt.figure()\n",
        "\n",
        "plt.plot(epochs, loss, 'r', label='Training loss')\n",
        "plt.plot(epochs, val_loss, 'b', label='Validation loss')\n",
        "plt.title('Training and validation loss')\n",
        "plt.legend(loc=0)\n",
        "\n",
        "plt.show()"
      ],
      "execution_count": 91,
      "outputs": [
        {
          "output_type": "display_data",
          "data": {
            "image/png": "[encoded data removed]",
            "text/plain": [
              "<Figure size 432x288 with 1 Axes>"
            ]
          },
          "metadata": {
            "tags": [],
            "needs_background": "light"
          }
        },
        {
          "output_type": "display_data",
          "data": {
            "image/png": "[encoded data removed]",
            "text/plain": [
              "<Figure size 432x288 with 1 Axes>"
            ]
          },
          "metadata": {
            "tags": [],
            "needs_background": "light"
          }
        }
      ]
    },
    {
      "cell_type": "markdown",
      "metadata": {
        "id": "11oiarZUnhsP"
      },
      "source": [
        "## Test Upload"
      ]
    },
    {
      "cell_type": "code",
      "metadata": {
        "id": "FXEFpp3Nni_I"
      },
      "source": [
        "def get_class_string_from_index(index):\n",
        "   for class_string, class_index in validation_generator.class_indices.items():\n",
        "      if class_index == index:\n",
        "         return class_string"
      ],
      "execution_count": 92,
      "outputs": []
    },
    {
      "cell_type": "code",
      "metadata": {
        "colab": {
          "resources": {
            "http://localhost:8080/nbextensions/google.colab/files.js": {
              "data": "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",
              "ok": true,
              "headers": [
                [
                  "content-type",
                  "application/javascript"
                ]
              ],
              "status": 200,
              "status_text": ""
            }
          },
          "base_uri": "https://localhost:8080/",
          "height": 378
        },
        "id": "HjCBAKmCnnX8",
        "outputId": "aaf5b97c-e83d-4d52-db2d-1466b7c40fb7"
      },
      "source": [
        "uploaded = files.upload()\n",
        "print(train_generator.class_indices) \n",
        "for fn in uploaded.keys():\n",
        " \n",
        "  # predicting images\n",
        "  path = fn\n",
        "  img = image.load_img(path, target_size=(150,150))\n",
        "  imgplot = plt.imshow(img)\n",
        "  x = image.img_to_array(img)\n",
        "  x = np.expand_dims(x, axis=0)\n",
        " \n",
        "  images = np.vstack([x])\n",
        "  classes = model.predict(images, batch_size=10)\n",
        "  predicted_index = np.argmax(classes)\n",
        "  print(get_class_string_from_index(predicted_index))\n",
        "  print(\"Hasil Prediksi: \" + get_class_string_from_index(predicted_index))"
      ],
      "execution_count": 96,
      "outputs": [
        {
          "output_type": "display_data",
          "data": {
            "text/html": [
              "\n",
              "     <input type=\"file\" id=\"files-1c44d673-e7ab-4c69-9ca0-36c1f71383cf\" name=\"files[]\" multiple disabled\n",
              "        style=\"border:none\" />\n",
              "     <output id=\"result-1c44d673-e7ab-4c69-9ca0-36c1f71383cf\">\n",
              "      Upload widget is only available when the cell has been executed in the\n",
              "      current browser session. Please rerun this cell to enable.\n",
              "      </output>\n",
              "      <script src=\"/nbextensions/google.colab/files.js\"></script> "
            ],
            "text/plain": [
              "<IPython.core.display.HTML object>"
            ]
          },
          "metadata": {
            "tags": []
          }
        },
        {
          "output_type": "stream",
          "text": [
            "Saving DSC_0513.jpg to DSC_0513 (2).jpg\n",
            "{'Bacterial leaf blight': 0, 'Brown spot': 1, 'Leaf smut': 2}\n",
            "Bacterial leaf blight\n",
            "Hasil Prediksi: Bacterial leaf blight\n"
          ],
          "name": "stdout"
        },
        {
          "output_type": "display_data",
          "data": {
            "image/png": "[encoded data removed]",
            "text/plain": [
              "<Figure size 432x288 with 1 Axes>"
            ]
          },
          "metadata": {
            "tags": [],
            "needs_background": "light"
          }
        }
      ]
    }
  ]
}